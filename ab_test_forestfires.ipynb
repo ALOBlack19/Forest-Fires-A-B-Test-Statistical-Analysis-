{
 "cells": [
  {
   "cell_type": "markdown",
   "id": "182b59d0",
   "metadata": {},
   "source": [
    "# Forest Fires A/B Test Analysis\n",
    "*Bonus Assignment — DS: Statistics and Probability*\n",
    "\n",
    "*College: Cornerstone International Community College of Canada - CICCC*\n",
    "\n",
    "*Student: Amir Lima Oliveira*\n",
    "\n",
    "*Date: May 20th, 2025*\n"
   ]
  },
  {
   "cell_type": "markdown",
   "id": "83566cee",
   "metadata": {},
   "source": [
    "## Objective\n",
    "\n",
    "*To conduct a complete A/B (two-sample) hypothesis test using a real-world environmental dataset. We aim to determine whether the presence of rain significantly affects the burned forest area.*\n"
   ]
  },
  {
   "cell_type": "markdown",
   "id": "056ea7e8",
   "metadata": {},
   "source": [
    "## 1. Dataset Information\n",
    "\n",
    "- **Dataset title**: Forest Fires  \n",
    "- **Source**: UCI Machine Learning Repository  \n",
    "- **Link**: [https://archive.ics.uci.edu/dataset/162/forest+fires](https://archive.ics.uci.edu/dataset/162/forest+fires)  \n",
    "- **Description**: *The dataset contains meteorological data and fire area measurements from Montesinho Natural Park in Portugal.*"
   ]
  },
  {
   "cell_type": "code",
   "execution_count": 59,
   "id": "be0e4730",
   "metadata": {},
   "outputs": [],
   "source": [
    "import pandas as pd\n",
    "import numpy as np\n",
    "import matplotlib.pyplot as plt\n",
    "import seaborn as sns\n",
    "\n",
    "from meteostat import Point, Daily\n",
    "from datetime import datetime\n",
    "from scipy import stats\n",
    "from scipy.stats import ttest_ind"
   ]
  },
  {
   "cell_type": "markdown",
   "id": "8843bd15",
   "metadata": {},
   "source": [
    "#### 1.1 - API for FFMC\n",
    " - %pip install meteostat\n",
    " - install ipykernel -- necessary to install py meteostat\n",
    " - Try to do it later (Get real world data with meteostat API and fetch with the csv file variables)"
   ]
  },
  {
   "cell_type": "markdown",
   "id": "80adfd6c",
   "metadata": {},
   "source": [
    "#### 1.2 Importing the dataset"
   ]
  },
  {
   "cell_type": "code",
   "execution_count": 35,
   "id": "eb74a966",
   "metadata": {},
   "outputs": [
    {
     "data": {
      "text/html": [
       "<div>\n",
       "<style scoped>\n",
       "    .dataframe tbody tr th:only-of-type {\n",
       "        vertical-align: middle;\n",
       "    }\n",
       "\n",
       "    .dataframe tbody tr th {\n",
       "        vertical-align: top;\n",
       "    }\n",
       "\n",
       "    .dataframe thead th {\n",
       "        text-align: right;\n",
       "    }\n",
       "</style>\n",
       "<table border=\"1\" class=\"dataframe\">\n",
       "  <thead>\n",
       "    <tr style=\"text-align: right;\">\n",
       "      <th></th>\n",
       "      <th>X</th>\n",
       "      <th>Y</th>\n",
       "      <th>month</th>\n",
       "      <th>day</th>\n",
       "      <th>FFMC</th>\n",
       "      <th>DMC</th>\n",
       "      <th>DC</th>\n",
       "      <th>ISI</th>\n",
       "      <th>temp</th>\n",
       "      <th>RH</th>\n",
       "      <th>wind</th>\n",
       "      <th>rain</th>\n",
       "      <th>area</th>\n",
       "    </tr>\n",
       "  </thead>\n",
       "  <tbody>\n",
       "    <tr>\n",
       "      <th>0</th>\n",
       "      <td>7</td>\n",
       "      <td>5</td>\n",
       "      <td>mar</td>\n",
       "      <td>fri</td>\n",
       "      <td>86.2</td>\n",
       "      <td>26.2</td>\n",
       "      <td>94.3</td>\n",
       "      <td>5.1</td>\n",
       "      <td>8.2</td>\n",
       "      <td>51</td>\n",
       "      <td>6.7</td>\n",
       "      <td>0.0</td>\n",
       "      <td>0.0</td>\n",
       "    </tr>\n",
       "    <tr>\n",
       "      <th>1</th>\n",
       "      <td>7</td>\n",
       "      <td>4</td>\n",
       "      <td>oct</td>\n",
       "      <td>tue</td>\n",
       "      <td>90.6</td>\n",
       "      <td>35.4</td>\n",
       "      <td>669.1</td>\n",
       "      <td>6.7</td>\n",
       "      <td>18.0</td>\n",
       "      <td>33</td>\n",
       "      <td>0.9</td>\n",
       "      <td>0.0</td>\n",
       "      <td>0.0</td>\n",
       "    </tr>\n",
       "    <tr>\n",
       "      <th>2</th>\n",
       "      <td>7</td>\n",
       "      <td>4</td>\n",
       "      <td>oct</td>\n",
       "      <td>sat</td>\n",
       "      <td>90.6</td>\n",
       "      <td>43.7</td>\n",
       "      <td>686.9</td>\n",
       "      <td>6.7</td>\n",
       "      <td>14.6</td>\n",
       "      <td>33</td>\n",
       "      <td>1.3</td>\n",
       "      <td>0.0</td>\n",
       "      <td>0.0</td>\n",
       "    </tr>\n",
       "    <tr>\n",
       "      <th>3</th>\n",
       "      <td>8</td>\n",
       "      <td>6</td>\n",
       "      <td>mar</td>\n",
       "      <td>fri</td>\n",
       "      <td>91.7</td>\n",
       "      <td>33.3</td>\n",
       "      <td>77.5</td>\n",
       "      <td>9.0</td>\n",
       "      <td>8.3</td>\n",
       "      <td>97</td>\n",
       "      <td>4.0</td>\n",
       "      <td>0.2</td>\n",
       "      <td>0.0</td>\n",
       "    </tr>\n",
       "    <tr>\n",
       "      <th>4</th>\n",
       "      <td>8</td>\n",
       "      <td>6</td>\n",
       "      <td>mar</td>\n",
       "      <td>sun</td>\n",
       "      <td>89.3</td>\n",
       "      <td>51.3</td>\n",
       "      <td>102.2</td>\n",
       "      <td>9.6</td>\n",
       "      <td>11.4</td>\n",
       "      <td>99</td>\n",
       "      <td>1.8</td>\n",
       "      <td>0.0</td>\n",
       "      <td>0.0</td>\n",
       "    </tr>\n",
       "  </tbody>\n",
       "</table>\n",
       "</div>"
      ],
      "text/plain": [
       "   X  Y month  day  FFMC   DMC     DC  ISI  temp  RH  wind  rain  area\n",
       "0  7  5   mar  fri  86.2  26.2   94.3  5.1   8.2  51   6.7   0.0   0.0\n",
       "1  7  4   oct  tue  90.6  35.4  669.1  6.7  18.0  33   0.9   0.0   0.0\n",
       "2  7  4   oct  sat  90.6  43.7  686.9  6.7  14.6  33   1.3   0.0   0.0\n",
       "3  8  6   mar  fri  91.7  33.3   77.5  9.0   8.3  97   4.0   0.2   0.0\n",
       "4  8  6   mar  sun  89.3  51.3  102.2  9.6  11.4  99   1.8   0.0   0.0"
      ]
     },
     "execution_count": 35,
     "metadata": {},
     "output_type": "execute_result"
    }
   ],
   "source": [
    "df = pd.read_csv('forestfires.csv')\n",
    "df.head()"
   ]
  },
  {
   "cell_type": "markdown",
   "id": "8d00b2a6",
   "metadata": {},
   "source": [
    "## 4. Exploratory Data Analysis (EDA)\n",
    "\n",
    "*Compute basic descriptive statistics (mean, median, std), visualize distributions, and assess group differences in burned area.*"
   ]
  },
  {
   "cell_type": "code",
   "execution_count": null,
   "id": "b2ee05c2",
   "metadata": {},
   "outputs": [
    {
     "name": "stdout",
     "output_type": "stream",
     "text": [
      "<class 'pandas.core.frame.DataFrame'>\n",
      "RangeIndex: 517 entries, 0 to 516\n",
      "Data columns (total 13 columns):\n",
      " #   Column  Non-Null Count  Dtype  \n",
      "---  ------  --------------  -----  \n",
      " 0   X       517 non-null    int64  \n",
      " 1   Y       517 non-null    int64  \n",
      " 2   month   517 non-null    object \n",
      " 3   day     517 non-null    object \n",
      " 4   FFMC    517 non-null    float64\n",
      " 5   DMC     517 non-null    float64\n",
      " 6   DC      517 non-null    float64\n",
      " 7   ISI     517 non-null    float64\n",
      " 8   temp    517 non-null    float64\n",
      " 9   RH      517 non-null    int64  \n",
      " 10  wind    517 non-null    float64\n",
      " 11  rain    517 non-null    float64\n",
      " 12  area    517 non-null    float64\n",
      "dtypes: float64(8), int64(3), object(2)\n",
      "memory usage: 52.6+ KB\n",
      "\n",
      "\n",
      "The mode is:\n",
      "\n",
      "      X    Y month  day  FFMC   DMC     DC  ISI  temp    RH  wind  rain  area\n",
      "0  4.0  4.0   aug  sun  91.6  99.0  745.3  9.6  17.4  27.0   2.2   0.0   0.0\n",
      "1  NaN  NaN   NaN  NaN  92.1   NaN    NaN  NaN  19.6   NaN   3.1   NaN   NaN\n"
     ]
    }
   ],
   "source": [
    "df.info()\n",
    "mode = df.mode()\n",
    "print(\"\\n\\nThe mode is:\\n\\n\",mode)"
   ]
  },
  {
   "cell_type": "code",
   "execution_count": 42,
   "id": "af23719b",
   "metadata": {},
   "outputs": [
    {
     "data": {
      "text/html": [
       "<div>\n",
       "<style scoped>\n",
       "    .dataframe tbody tr th:only-of-type {\n",
       "        vertical-align: middle;\n",
       "    }\n",
       "\n",
       "    .dataframe tbody tr th {\n",
       "        vertical-align: top;\n",
       "    }\n",
       "\n",
       "    .dataframe thead th {\n",
       "        text-align: right;\n",
       "    }\n",
       "</style>\n",
       "<table border=\"1\" class=\"dataframe\">\n",
       "  <thead>\n",
       "    <tr style=\"text-align: right;\">\n",
       "      <th></th>\n",
       "      <th>X</th>\n",
       "      <th>Y</th>\n",
       "      <th>FFMC</th>\n",
       "      <th>DMC</th>\n",
       "      <th>DC</th>\n",
       "      <th>ISI</th>\n",
       "      <th>temp</th>\n",
       "      <th>RH</th>\n",
       "      <th>wind</th>\n",
       "      <th>rain</th>\n",
       "      <th>area</th>\n",
       "    </tr>\n",
       "  </thead>\n",
       "  <tbody>\n",
       "    <tr>\n",
       "      <th>count</th>\n",
       "      <td>517.000000</td>\n",
       "      <td>517.000000</td>\n",
       "      <td>517.000000</td>\n",
       "      <td>517.000000</td>\n",
       "      <td>517.000000</td>\n",
       "      <td>517.000000</td>\n",
       "      <td>517.000000</td>\n",
       "      <td>517.000000</td>\n",
       "      <td>517.000000</td>\n",
       "      <td>517.000000</td>\n",
       "      <td>517.000000</td>\n",
       "    </tr>\n",
       "    <tr>\n",
       "      <th>mean</th>\n",
       "      <td>4.669246</td>\n",
       "      <td>4.299807</td>\n",
       "      <td>90.644681</td>\n",
       "      <td>110.872340</td>\n",
       "      <td>547.940039</td>\n",
       "      <td>9.021663</td>\n",
       "      <td>18.889168</td>\n",
       "      <td>44.288201</td>\n",
       "      <td>4.017602</td>\n",
       "      <td>0.021663</td>\n",
       "      <td>12.847292</td>\n",
       "    </tr>\n",
       "    <tr>\n",
       "      <th>std</th>\n",
       "      <td>2.313778</td>\n",
       "      <td>1.229900</td>\n",
       "      <td>5.520111</td>\n",
       "      <td>64.046482</td>\n",
       "      <td>248.066192</td>\n",
       "      <td>4.559477</td>\n",
       "      <td>5.806625</td>\n",
       "      <td>16.317469</td>\n",
       "      <td>1.791653</td>\n",
       "      <td>0.295959</td>\n",
       "      <td>63.655818</td>\n",
       "    </tr>\n",
       "    <tr>\n",
       "      <th>min</th>\n",
       "      <td>1.000000</td>\n",
       "      <td>2.000000</td>\n",
       "      <td>18.700000</td>\n",
       "      <td>1.100000</td>\n",
       "      <td>7.900000</td>\n",
       "      <td>0.000000</td>\n",
       "      <td>2.200000</td>\n",
       "      <td>15.000000</td>\n",
       "      <td>0.400000</td>\n",
       "      <td>0.000000</td>\n",
       "      <td>0.000000</td>\n",
       "    </tr>\n",
       "    <tr>\n",
       "      <th>25%</th>\n",
       "      <td>3.000000</td>\n",
       "      <td>4.000000</td>\n",
       "      <td>90.200000</td>\n",
       "      <td>68.600000</td>\n",
       "      <td>437.700000</td>\n",
       "      <td>6.500000</td>\n",
       "      <td>15.500000</td>\n",
       "      <td>33.000000</td>\n",
       "      <td>2.700000</td>\n",
       "      <td>0.000000</td>\n",
       "      <td>0.000000</td>\n",
       "    </tr>\n",
       "    <tr>\n",
       "      <th>50%</th>\n",
       "      <td>4.000000</td>\n",
       "      <td>4.000000</td>\n",
       "      <td>91.600000</td>\n",
       "      <td>108.300000</td>\n",
       "      <td>664.200000</td>\n",
       "      <td>8.400000</td>\n",
       "      <td>19.300000</td>\n",
       "      <td>42.000000</td>\n",
       "      <td>4.000000</td>\n",
       "      <td>0.000000</td>\n",
       "      <td>0.520000</td>\n",
       "    </tr>\n",
       "    <tr>\n",
       "      <th>75%</th>\n",
       "      <td>7.000000</td>\n",
       "      <td>5.000000</td>\n",
       "      <td>92.900000</td>\n",
       "      <td>142.400000</td>\n",
       "      <td>713.900000</td>\n",
       "      <td>10.800000</td>\n",
       "      <td>22.800000</td>\n",
       "      <td>53.000000</td>\n",
       "      <td>4.900000</td>\n",
       "      <td>0.000000</td>\n",
       "      <td>6.570000</td>\n",
       "    </tr>\n",
       "    <tr>\n",
       "      <th>max</th>\n",
       "      <td>9.000000</td>\n",
       "      <td>9.000000</td>\n",
       "      <td>96.200000</td>\n",
       "      <td>291.300000</td>\n",
       "      <td>860.600000</td>\n",
       "      <td>56.100000</td>\n",
       "      <td>33.300000</td>\n",
       "      <td>100.000000</td>\n",
       "      <td>9.400000</td>\n",
       "      <td>6.400000</td>\n",
       "      <td>1090.840000</td>\n",
       "    </tr>\n",
       "  </tbody>\n",
       "</table>\n",
       "</div>"
      ],
      "text/plain": [
       "                X           Y        FFMC         DMC          DC         ISI  \\\n",
       "count  517.000000  517.000000  517.000000  517.000000  517.000000  517.000000   \n",
       "mean     4.669246    4.299807   90.644681  110.872340  547.940039    9.021663   \n",
       "std      2.313778    1.229900    5.520111   64.046482  248.066192    4.559477   \n",
       "min      1.000000    2.000000   18.700000    1.100000    7.900000    0.000000   \n",
       "25%      3.000000    4.000000   90.200000   68.600000  437.700000    6.500000   \n",
       "50%      4.000000    4.000000   91.600000  108.300000  664.200000    8.400000   \n",
       "75%      7.000000    5.000000   92.900000  142.400000  713.900000   10.800000   \n",
       "max      9.000000    9.000000   96.200000  291.300000  860.600000   56.100000   \n",
       "\n",
       "             temp          RH        wind        rain         area  \n",
       "count  517.000000  517.000000  517.000000  517.000000   517.000000  \n",
       "mean    18.889168   44.288201    4.017602    0.021663    12.847292  \n",
       "std      5.806625   16.317469    1.791653    0.295959    63.655818  \n",
       "min      2.200000   15.000000    0.400000    0.000000     0.000000  \n",
       "25%     15.500000   33.000000    2.700000    0.000000     0.000000  \n",
       "50%     19.300000   42.000000    4.000000    0.000000     0.520000  \n",
       "75%     22.800000   53.000000    4.900000    0.000000     6.570000  \n",
       "max     33.300000  100.000000    9.400000    6.400000  1090.840000  "
      ]
     },
     "execution_count": 42,
     "metadata": {},
     "output_type": "execute_result"
    }
   ],
   "source": [
    "df.describe()"
   ]
  },
  {
   "cell_type": "code",
   "execution_count": 56,
   "id": "ce8d0f50",
   "metadata": {},
   "outputs": [
    {
     "name": "stdout",
     "output_type": "stream",
     "text": [
      "FFMC     91.60\n",
      "DMC     108.30\n",
      "DC      664.20\n",
      "ISI       8.40\n",
      "temp     19.30\n",
      "RH       42.00\n",
      "wind      4.00\n",
      "rain      0.00\n",
      "area      0.52\n",
      "dtype: float64\n"
     ]
    }
   ],
   "source": [
    "median = df[['FFMC','DMC','DC','ISI','temp','RH','wind','rain','area']].median()\n",
    "print(median)\n",
    "\n"
   ]
  },
  {
   "cell_type": "markdown",
   "id": "b3f23496",
   "metadata": {},
   "source": [
    "## 5. *Data Cleaning & Preprocessing*"
   ]
  },
  {
   "cell_type": "markdown",
   "id": "d90b8aaa",
   "metadata": {},
   "source": [
    "#### Checking Null values"
   ]
  },
  {
   "cell_type": "code",
   "execution_count": 37,
   "id": "9e347e18",
   "metadata": {},
   "outputs": [
    {
     "data": {
      "text/plain": [
       "X        0\n",
       "Y        0\n",
       "month    0\n",
       "day      0\n",
       "FFMC     0\n",
       "DMC      0\n",
       "DC       0\n",
       "ISI      0\n",
       "temp     0\n",
       "RH       0\n",
       "wind     0\n",
       "rain     0\n",
       "area     0\n",
       "dtype: int64"
      ]
     },
     "execution_count": 37,
     "metadata": {},
     "output_type": "execute_result"
    }
   ],
   "source": [
    "df.isnull().sum()"
   ]
  },
  {
   "cell_type": "markdown",
   "id": "b167829a",
   "metadata": {},
   "source": [
    "#### Checking unique values on month and day columns"
   ]
  },
  {
   "cell_type": "code",
   "execution_count": null,
   "id": "391bd8a3",
   "metadata": {},
   "outputs": [],
   "source": [
    "df['month'] = df['month'].str.lower().str.strip()\n",
    "df['day'] = df['day'].str.lower().str.strip()\n",
    "print(df['month'].unique())\n",
    "print(df['day'].unique())"
   ]
  },
  {
   "cell_type": "markdown",
   "id": "8986bb4a",
   "metadata": {},
   "source": [
    "#### Checking duplicates"
   ]
  },
  {
   "cell_type": "code",
   "execution_count": null,
   "id": "b0f13ac9",
   "metadata": {},
   "outputs": [],
   "source": [
    "print(f\"Number of duplicate rows: {df.duplicated().sum()}\")\n",
    "print(\"df.duplicated():\\n\",df[df.duplicated()])\n",
    "print(\"df.duplicated(subset=['X', 'Y']):\\n\",df[df.duplicated(subset=['X', 'Y'])])\n"
   ]
  },
  {
   "cell_type": "markdown",
   "id": "ebb4febb",
   "metadata": {},
   "source": [
    "## 6. Hypothesis Formulation\n",
    "\n",
    "- H₀ (Null Hypothesis): There is no significant difference in the burned area between days with high and low FFMC.\n",
    "\n",
    "- H₁ (Alternative Hypothesis): There is a significant difference in the burned area between days with high and low FFMC.\n",
    "- **Significance Level (α)**: *0.05*"
   ]
  },
  {
   "cell_type": "markdown",
   "id": "3b57f692",
   "metadata": {},
   "source": [
    "## 6. Hypothesis Test Execution"
   ]
  },
  {
   "cell_type": "markdown",
   "id": "39fcf74c",
   "metadata": {},
   "source": [
    "Group A: Days with low FFMC values.\n",
    "\n",
    "Group B: Days with high FFMC values."
   ]
  },
  {
   "cell_type": "code",
   "execution_count": 57,
   "id": "2ec0fdf9",
   "metadata": {},
   "outputs": [
    {
     "name": "stdout",
     "output_type": "stream",
     "text": [
      "FFMC_Group\n",
      "High    283\n",
      "Low     234\n",
      "Name: count, dtype: int64\n"
     ]
    }
   ],
   "source": [
    "ffmc_median = df['FFMC'].median()\n",
    "\n",
    "# Column to separate FFMC in groups: as 'Low' or 'High'\n",
    "df['FFMC_Group'] = ''\n",
    "for i in df.index:\n",
    "    if df.loc[i, 'FFMC'] < ffmc_median:\n",
    "        df.loc[i, 'FFMC_Group'] = 'Low'\n",
    "    else:\n",
    "        df.loc[i, 'FFMC_Group'] = 'High'\n",
    "\n",
    "# Display how many samples in each group\n",
    "print(df['FFMC_Group'].value_counts())"
   ]
  },
  {
   "cell_type": "code",
   "execution_count": null,
   "id": "59e75eb8",
   "metadata": {},
   "outputs": [],
   "source": [
    "# Defining the samples for the A/B test\n",
    "burned_area_high = df[df['FFMC_Group'] == 'High']['area']\n",
    "burned_area_low = df[df['FFMC_Group'] == 'Low']['area']"
   ]
  },
  {
   "cell_type": "markdown",
   "id": "6d24c34c",
   "metadata": {},
   "source": [
    "#### Statistics test choice based on the problem (two sample t-test)\n",
    " - It is because even though I have more than 30 unit poins per sample in each group, I only have access to one specific region, so I don't know the entire population.\n",
    "\n",
    "##### Arguments:\n",
    " - Continuous data (burned area size)\n",
    " - Two independent groups (High FFMC vs Low FFMC) - Created above\n",
    " - Don’t know the entire population standard deviation"
   ]
  },
  {
   "cell_type": "code",
   "execution_count": 60,
   "id": "bf858bdc",
   "metadata": {},
   "outputs": [
    {
     "name": "stdout",
     "output_type": "stream",
     "text": [
      "T-statistic: 1.1340003431780752\n",
      "P-value: 0.2575357105414661\n",
      "Fail to reject the null hypothesis: There is NO significant difference in burned area between FFMC groups.\n"
     ]
    }
   ],
   "source": [
    "\n",
    "# 1. Separate the groups\n",
    "burned_area_high = df[df['FFMC_Group'] == 'High']['area']\n",
    "burned_area_low = df[df['FFMC_Group'] == 'Low']['area']\n",
    "\n",
    "# Check for Equal variances:\n",
    "# Checking equal variance with levene's test is a good practice becouse \n",
    "stats.levene(burned_area_high, burned_area_low)\n",
    "\n",
    "# 3. Perform the independent two-sample t-test\n",
    "t_stat, p_value = stats.ttest_ind(burned_area_high, burned_area_low, equal_var = False)  \n",
    "# Welch’s t-test (assumes unequal variances)\n",
    "\n",
    "# 4. Show results\n",
    "print(\"T-statistic:\", t_stat)\n",
    "print(\"P-value:\", p_value)\n",
    "\n",
    "# Interpretation\n",
    "alpha = 0.05\n",
    "if p_value < alpha:\n",
    "    print(\"Reject the null hypothesis: There IS a significant difference in burned area between FFMC groups.\")\n",
    "else:\n",
    "    print(\"Fail to reject the null hypothesis: There is NO significant difference in burned area between FFMC groups.\")\n"
   ]
  },
  {
   "cell_type": "markdown",
   "id": "ccc15e3a",
   "metadata": {},
   "source": [
    "#### Confidence interval"
   ]
  },
  {
   "cell_type": "code",
   "execution_count": 63,
   "id": "10f72d11",
   "metadata": {},
   "outputs": [
    {
     "name": "stdout",
     "output_type": "stream",
     "text": [
      "95% Confidence Interval: (Group_Low:-4.350797663018458, Group_High:16.20437593005963)\n"
     ]
    }
   ],
   "source": [
    "n_high = len(burned_area_high) # High FFMC group sample size\n",
    "n_low = len(burned_area_low) # Low FFMC group sample size\n",
    "mean_high = burned_area_high.mean() # High FFMC group mean\n",
    "mean_low = burned_area_low.mean() # Low FFMC group mean\n",
    "std_high = burned_area_high.std() # High FFMC group standard deviation\n",
    "std_low = burned_area_low.std() # Low FFMC group standard deviation\n",
    "\n",
    "se_diff = np.sqrt((std_high**2/n_high) + (std_low**2/n_low)) # Standard error of the difference\n",
    "\n",
    "df_effective = df_effective = ((std_high**2 / n_high) + (std_low**2 / n_low))**2 / \\\n",
    "               (((std_high**2 / n_high)**2) / (n_high - 1) + ((std_low**2 / n_low)**2) / (n_low - 1))\n",
    "\n",
    "t_crit = stats.t.ppf(0.975, df_effective) # Critical t-value for 95% confidence level\n",
    "\n",
    "margin_of_error = t_crit * se_diff # Margin of error\n",
    "\n",
    "ci_low = (mean_high - mean_low) - margin_of_error # Lower bound of the confidence interval\n",
    "ci_high = (mean_high - mean_low) + margin_of_error # Upper bound of the confidence interval\n",
    "print(f\"95% Confidence Interval: (Group_Low:{ci_low}, Group_High:{ci_high})\")"
   ]
  },
  {
   "cell_type": "markdown",
   "id": "23f86b5a",
   "metadata": {},
   "source": [
    "## 7. Results & Conclusion\n",
    "\n",
    "- *Test statistic = 1.134*  \n",
    "- *P-value = 0.2575*  \n",
    "- *95% confidence interval:* Group_Low:-4.3507  //  Group_High:16.2043 \n",
    "\n",
    "- *Decision: Fail to reject the null hypothesis*  \n",
    "- *Practical significance: Even the FFMC variable being a important and validaded value to consider in a forest fire situation, in this test wasn't statistically relevant to determine if the fire will spead in a wider area.*"
   ]
  },
  {
   "cell_type": "markdown",
   "id": "e3ce3d8b",
   "metadata": {},
   "source": [
    "## 8. Briefly discussion\n",
    "\n",
    "*Briefly discuss dataset limitations (e.g., small sample with rain, skewed data), test assumptions, and propose improvements or future analyses.*"
   ]
  },
  {
   "cell_type": "markdown",
   "id": "ac2ffb35",
   "metadata": {},
   "source": [
    "This A/B test project in for Forest fires on the northeast region of Portugal (Montesinho Park) evaluated if high FFMC values are associated with significantly higher burned areas compared to low FFMC days. The result did not provide strong evidence to reject the null hypothesis, as the confidence interval included zero.\n",
    "\n",
    "* A larger dataset could change this result (if it brought all Portugal forest fires during the years 2000 and 2003).\n",
    "* The burned areas are not symmetrical, with many small fires and a few very large ones. It cause an the burned area data column be skewed."
   ]
  }
 ],
 "metadata": {
  "kernelspec": {
   "display_name": "ab_env",
   "language": "python",
   "name": "python3"
  },
  "language_info": {
   "codemirror_mode": {
    "name": "ipython",
    "version": 3
   },
   "file_extension": ".py",
   "mimetype": "text/x-python",
   "name": "python",
   "nbconvert_exporter": "python",
   "pygments_lexer": "ipython3",
   "version": "3.13.3"
  }
 },
 "nbformat": 4,
 "nbformat_minor": 5
}
